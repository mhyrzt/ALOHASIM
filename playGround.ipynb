{
 "cells": [
  {
   "cell_type": "code",
   "execution_count": 1,
   "metadata": {},
   "outputs": [
    {
     "name": "stdout",
     "output_type": "stream",
     "text": [
      "DATA1 = HELLO\n",
      "DATA2 = ALOHA\n",
      "DATAR = HEOLOHA\n"
     ]
    }
   ],
   "source": [
    "node1  = \"HELLO\"\n",
    "node2  = \"ALOHA\"\n",
    "NOCOL  = 2\n",
    "COL    = len(node1) - NOCOL\n",
    "server = [node1[:NOCOL], \"\", node2[-NOCOL:]]\n",
    "for i in range(COL):\n",
    "    a = ord(node1[i + 2])\n",
    "    b = ord(node2[i - 3])\n",
    "    c = a | b\n",
    "    c = chr(c)\n",
    "    server[1] += c\n",
    "server = ''.join(server)\n",
    "print(\"DATA1 = \" + node1)\n",
    "print(\"DATA2 = \" + node2)\n",
    "print(\"DATAR = \" + server)"
   ]
  },
  {
   "cell_type": "code",
   "execution_count": 2,
   "metadata": {},
   "outputs": [
    {
     "name": "stdout",
     "output_type": "stream",
     "text": [
      "DATA1 = 00011110\n",
      "DATA2 = 11100110\n",
      "DATAR = 00111110\n"
     ]
    }
   ],
   "source": [
    "node1  = \"00011110\"\n",
    "node2  = \"11100110\"\n",
    "NOCOL  = 2\n",
    "COL    = len(node1) - NOCOL\n",
    "server = [node1[:2], \"\", node2[-2:]]\n",
    "for i in range(4):\n",
    "    a = int(node1[i + 2])\n",
    "    b = int(node2[i - 3])\n",
    "    c = a | b\n",
    "    c = str(c)\n",
    "    server[1] += c\n",
    "server = ''.join(server)\n",
    "print(\"DATA1 = \" + node1)\n",
    "print(\"DATA2 = \" + node2)\n",
    "print(\"DATAR = \" + server)"
   ]
  },
  {
   "cell_type": "code",
   "execution_count": null,
   "metadata": {},
   "outputs": [],
   "source": []
  }
 ],
 "metadata": {
  "kernelspec": {
   "display_name": "Python 3",
   "language": "python",
   "name": "python3"
  },
  "language_info": {
   "codemirror_mode": {
    "name": "ipython",
    "version": 3
   },
   "file_extension": ".py",
   "mimetype": "text/x-python",
   "name": "python",
   "nbconvert_exporter": "python",
   "pygments_lexer": "ipython3",
   "version": "3.8.5"
  }
 },
 "nbformat": 4,
 "nbformat_minor": 4
}
